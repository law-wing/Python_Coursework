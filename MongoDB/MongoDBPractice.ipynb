{
 "cells": [
  {
   "cell_type": "code",
   "execution_count": 1,
   "metadata": {},
   "outputs": [
    {
     "data": {
      "text/plain": [
       "[u'admin', u'local', u'test']"
      ]
     },
     "execution_count": 1,
     "metadata": {},
     "output_type": "execute_result"
    }
   ],
   "source": [
    "from pymongo import MongoClient\n",
    "client = MongoClient('mongodb://localhost:27017')\n",
    "client.database_names()"
   ]
  },
  {
   "cell_type": "code",
   "execution_count": 9,
   "metadata": {},
   "outputs": [],
   "source": [
    "db = client.test\n",
    "collection = db[\"primer-dataset\"]"
   ]
  },
  {
   "cell_type": "code",
   "execution_count": 10,
   "metadata": {},
   "outputs": [
    {
     "data": {
      "text/plain": [
       "{u'_id': ObjectId('5a0e2222c04cffd029ef9db9'),\n",
       " u'address': {u'building': u'8825',\n",
       "  u'coord': [-73.8803827, 40.7643124],\n",
       "  u'street': u'Astoria Boulevard',\n",
       "  u'zipcode': u'11369'},\n",
       " u'borough': u'Queens',\n",
       " u'cuisine': u'American',\n",
       " u'grades': [{u'date': datetime.datetime(2014, 11, 15, 0, 0),\n",
       "   u'grade': u'Z',\n",
       "   u'score': 38},\n",
       "  {u'date': datetime.datetime(2014, 5, 2, 0, 0), u'grade': u'A', u'score': 10},\n",
       "  {u'date': datetime.datetime(2013, 3, 2, 0, 0), u'grade': u'A', u'score': 7},\n",
       "  {u'date': datetime.datetime(2012, 2, 10, 0, 0),\n",
       "   u'grade': u'A',\n",
       "   u'score': 13}],\n",
       " u'name': u'Brunos On The Boulevard',\n",
       " u'restaurant_id': u'40356151'}"
      ]
     },
     "execution_count": 10,
     "metadata": {},
     "output_type": "execute_result"
    }
   ],
   "source": [
    "collection.find_one()"
   ]
  },
  {
   "cell_type": "code",
   "execution_count": null,
   "metadata": {},
   "outputs": [],
   "source": []
  }
 ],
 "metadata": {
  "kernelspec": {
   "display_name": "Python 2",
   "language": "python",
   "name": "python2"
  },
  "language_info": {
   "codemirror_mode": {
    "name": "ipython",
    "version": 2
   },
   "file_extension": ".py",
   "mimetype": "text/x-python",
   "name": "python",
   "nbconvert_exporter": "python",
   "pygments_lexer": "ipython2",
   "version": "2.7.14"
  }
 },
 "nbformat": 4,
 "nbformat_minor": 2
}
